{
 "cells": [
  {
   "cell_type": "code",
   "execution_count": 32,
   "metadata": {},
   "outputs": [],
   "source": [
    "#2\n",
    "import csv\n",
    "\n",
    "import datetime"
   ]
  },
  {
   "cell_type": "code",
   "execution_count": 33,
   "metadata": {},
   "outputs": [],
   "source": [
    "#3\n",
    "class Pizza:\n",
    "    def __init__(self,maliyet,aciklama):\n",
    "        self.maliyet=maliyet\n",
    "        self.aciklama=aciklama\n",
    "    def get_cost(self):\n",
    "        return self.maliyet\n",
    "    def get_description(self):\n",
    "        return self.aciklama"
   ]
  },
  {
   "cell_type": "code",
   "execution_count": 34,
   "metadata": {},
   "outputs": [],
   "source": [
    "#4\n",
    "class Klasik(Pizza):\n",
    "    def __init__(self):\n",
    "        self.maliyet=50\n",
    "        self.aciklama=\"Karışık pizza malzemeleri : mantar, kaşar peyniri, domates, sucuk, salam, sosis\"\n",
    "\n",
    "\n",
    "class Margherita(Pizza):\n",
    "    def __init__(self):\n",
    "        self.maliyet=65\n",
    "        self.aciklama=\"Margherita pizza malzemeleri : domates, mozarella, fesleğen\"\n",
    "\n",
    "\n",
    "class Turk_Pizza(Pizza):\n",
    "    def __init__(self):\n",
    "        self.maliyet=60\n",
    "        self.aciklama=\"Türk pizza malzemeleri : kıyma, soğan, biber, domates\"\n",
    "\n",
    "\n",
    "class Pepperoni_Pizza(Pizza):\n",
    "    def __init__(self):\n",
    "        self.maliyet=75\n",
    "        self.aciklama=\"Pepperoni pizza malzemeleri : pepperoni, pepperoni sos, mozerella peyniri, mısır, yeşil zeytin, siyah zeytin \"\n"
   ]
  },
  {
   "cell_type": "code",
   "execution_count": 35,
   "metadata": {},
   "outputs": [],
   "source": [
    "siparis=Klasik()"
   ]
  },
  {
   "cell_type": "code",
   "execution_count": 36,
   "metadata": {},
   "outputs": [
    {
     "data": {
      "text/plain": [
       "50"
      ]
     },
     "execution_count": 36,
     "metadata": {},
     "output_type": "execute_result"
    }
   ],
   "source": [
    "siparis.get_cost()"
   ]
  },
  {
   "cell_type": "code",
   "execution_count": 37,
   "metadata": {},
   "outputs": [
    {
     "data": {
      "text/plain": [
       "'Karışık pizza malzemeleri : mantar, kaşar peyniri, domates, sucuk, salam, sosis'"
      ]
     },
     "execution_count": 37,
     "metadata": {},
     "output_type": "execute_result"
    }
   ],
   "source": [
    "siparis.get_description()"
   ]
  },
  {
   "cell_type": "code",
   "execution_count": 38,
   "metadata": {},
   "outputs": [],
   "source": [
    "class Decorator(Pizza):\n",
    "    def __init__(self, maliyet, aciklama):\n",
    "        Pizza.__init__(maliyet, aciklama)\n",
    "    \n",
    "    def get_cost(self):\n",
    "        return Pizza.get_cost(self)\n",
    "\n",
    "    def get_description(self):\n",
    "        return Pizza.get_description(self)       "
   ]
  },
  {
   "cell_type": "code",
   "execution_count": 39,
   "metadata": {},
   "outputs": [],
   "source": [
    "\"\"\"Sos olarak Zeytin, Mantar, Keçi Peyniri, Et, Soğan ve Mısır'ı belirleyin ve belirlediğiniz sosların her birini bir sınıf olarak tanımlayın.\n",
    "Unutmayın ki her sosun kendine ait bir fiyatı ve değişken olarak her bir pizzanın açıklaması olması gerekir.\n",
    "\"\"\"\n",
    "class Zeytin(Decorator):\n",
    "    def __init__(self):\n",
    "        self.maliyet=5\n",
    "        self.aciklama=\"\"\n",
    "\n",
    "\n",
    "class Mantar(Decorator):\n",
    "    def __init__(self):\n",
    "        self.maliyet=8\n",
    "        self.aciklama=\"\"\n",
    "\n",
    "\n",
    "class Keci_Peyniri(Decorator):\n",
    "    def __init__(self):\n",
    "        self.maliyet=12\n",
    "        self.aciklama=\"\"\n",
    "\n",
    "\n",
    "class Et(Decorator):\n",
    "    def __init__(self):\n",
    "        self.maliyet=20\n",
    "        self.aciklama=\"\"\n",
    "\n",
    "class Sogan(Decorator):\n",
    "    def __init__(self):\n",
    "        self.maliyet=6\n",
    "        self.aciklama=\"\"\n",
    "\n",
    "\n",
    "class Misir(Decorator):\n",
    "    def __init__(self):\n",
    "        self.maliyet=3\n",
    "        self.aciklama=\"\""
   ]
  },
  {
   "cell_type": "code",
   "execution_count": 40,
   "metadata": {},
   "outputs": [],
   "source": [
    "sos=Zeytin()"
   ]
  },
  {
   "cell_type": "code",
   "execution_count": 41,
   "metadata": {},
   "outputs": [
    {
     "data": {
      "text/plain": [
       "5"
      ]
     },
     "execution_count": 41,
     "metadata": {},
     "output_type": "execute_result"
    }
   ],
   "source": [
    "sos.get_cost()"
   ]
  },
  {
   "cell_type": "code",
   "execution_count": 42,
   "metadata": {},
   "outputs": [
    {
     "data": {
      "text/plain": [
       "''"
      ]
     },
     "execution_count": 42,
     "metadata": {},
     "output_type": "execute_result"
    }
   ],
   "source": [
    "sos.get_description()"
   ]
  },
  {
   "cell_type": "code",
   "execution_count": 54,
   "metadata": {},
   "outputs": [
    {
     "name": "stdout",
     "output_type": "stream",
     "text": [
      "* Lütfen Bir Pizza Tabanı Seçiniz:\n",
      "1: Klasik\n",
      "2: Margherita\n",
      "3: Türk Pizza\n",
      "4: Pepperoni Pizza\n",
      "* ve seçeceğiniz sos:\n",
      "11: Zeytin\n",
      "12: Mantarlar\n",
      "13: Keçi Peyniri\n",
      "14: Et\n",
      "15: Soğan\n",
      "16: Mısır\n",
      "* Teşekkür ederiz!\n",
      "\n"
     ]
    }
   ],
   "source": [
    "def Main():\n",
    "    menu = open(\"Menu.txt\")\n",
    "    print(menu.read())\n",
    "\n",
    "    \n",
    "    pizzasec=input(\"Pizzanızı seçiniz: \")\n",
    "    if pizzasec==\"1\":\n",
    "        pizzam=Klasik()\n",
    "    elif pizzasec==\"2\":\n",
    "        pizzam=Margherita()\n",
    "    elif pizzasec==\"3\":\n",
    "        pizzam=Turk_Pizza()\n",
    "    elif pizzasec==\"4\":\n",
    "        pizzam=Pepperoni_Pizza()\n",
    "    else:\n",
    "        print(\"Pizza siparişiniz tamamlanamadı!\") \n",
    "\n",
    "           \n",
    "    sossec=input(\"Sos seçiniz:\")\n",
    "    if sossec==\"11\":\n",
    "        sosum=Zeytin()\n",
    "    elif sossec==\"12\":\n",
    "        sosum=Mantar()\n",
    "    elif sossec==\"13\":\n",
    "        sosum=Keci_Peyniri()\n",
    "    elif sossec==\"14\":\n",
    "        sosum=Et()\n",
    "    elif sossec==\"15\":\n",
    "        sosum=Sogan()\n",
    "    elif sossec==\"16\":\n",
    "        sosum=Misir()        \n",
    "    else:\n",
    "        print(\"Sos Yok\")\n",
    "\n",
    "    hesap=pizzam.get_cost()+sosum.get_cost()\n",
    "\n",
    "    isim=input(\"Adınızı giriniz: \")\n",
    "\n",
    "    tc=input(\"TC giriniz: \")\n",
    "\n",
    "    kartno=input(\"Kart Numaranızı giriniz: \")\n",
    "\n",
    "    kartsifre=input(\"Kart Şifrenizi: \")\n",
    "\n",
    "    an = datetime.datetime.now()\n",
    "    tarih = datetime.datetime.strftime(an, '%c')\n",
    "    \n",
    "    with open('Orders_Database.csv', mode='a') as yeni_dosya:\n",
    "        yeni_yazici = csv.writer(yeni_dosya, delimiter=',', quotechar='\"', quoting=csv.QUOTE_MINIMAL)\n",
    "        yeni_yazici.writerow([pizzam.__class__.__name__,isim,tc,kartno,kartsifre,pizzam.get_description()+sosum.get_description(),tarih,hesap])\n",
    "\n",
    "Main()"
   ]
  },
  {
   "cell_type": "code",
   "execution_count": 55,
   "metadata": {},
   "outputs": [
    {
     "data": {
      "text/html": [
       "<div>\n",
       "<style scoped>\n",
       "    .dataframe tbody tr th:only-of-type {\n",
       "        vertical-align: middle;\n",
       "    }\n",
       "\n",
       "    .dataframe tbody tr th {\n",
       "        vertical-align: top;\n",
       "    }\n",
       "\n",
       "    .dataframe thead th {\n",
       "        text-align: right;\n",
       "    }\n",
       "</style>\n",
       "<table border=\"1\" class=\"dataframe\">\n",
       "  <thead>\n",
       "    <tr style=\"text-align: right;\">\n",
       "      <th></th>\n",
       "      <th>Pizza Türü</th>\n",
       "      <th>İsim</th>\n",
       "      <th>TC No</th>\n",
       "      <th>Kredi Kartı No</th>\n",
       "      <th>Kredi Kart No Şifre</th>\n",
       "      <th>Sipariş Açıklama</th>\n",
       "      <th>Sipariş Tarihi</th>\n",
       "      <th>Sipariş Tutarı</th>\n",
       "    </tr>\n",
       "  </thead>\n",
       "  <tbody>\n",
       "    <tr>\n",
       "      <th>0</th>\n",
       "      <td>Klasik</td>\n",
       "      <td>Hasan</td>\n",
       "      <td>132</td>\n",
       "      <td>51</td>\n",
       "      <td>51</td>\n",
       "      <td>Karışık pizza malzemeleri : mantar, kaşar peyn...</td>\n",
       "      <td>Fri Mar  3 00:43:21 2023</td>\n",
       "      <td>70</td>\n",
       "    </tr>\n",
       "    <tr>\n",
       "      <th>1</th>\n",
       "      <td>Margherita</td>\n",
       "      <td>Ege</td>\n",
       "      <td>331</td>\n",
       "      <td>31</td>\n",
       "      <td>31</td>\n",
       "      <td>Margherita pizza malzemeleri : domates, mozare...</td>\n",
       "      <td>Fri Mar  3 00:48:36 2023</td>\n",
       "      <td>77</td>\n",
       "    </tr>\n",
       "    <tr>\n",
       "      <th>2</th>\n",
       "      <td>3</td>\n",
       "      <td>Feridun</td>\n",
       "      <td>414141414141</td>\n",
       "      <td>414141414141</td>\n",
       "      <td>4114</td>\n",
       "      <td>Türk pizza malzemeleri : kıyma, soğan, biber, ...</td>\n",
       "      <td>Fri Mar  3 00:52:28 2023</td>\n",
       "      <td>68</td>\n",
       "    </tr>\n",
       "    <tr>\n",
       "      <th>3</th>\n",
       "      <td>Turk_Pizza</td>\n",
       "      <td>Saltanat</td>\n",
       "      <td>1414</td>\n",
       "      <td>1414</td>\n",
       "      <td>1414</td>\n",
       "      <td>Türk pizza malzemeleri : kıyma, soğan, biber, ...</td>\n",
       "      <td>Fri Mar  3 00:54:50 2023</td>\n",
       "      <td>68</td>\n",
       "    </tr>\n",
       "  </tbody>\n",
       "</table>\n",
       "</div>"
      ],
      "text/plain": [
       "   Pizza Türü      İsim         TC No  Kredi Kartı No  Kredi Kart No Şifre  \\\n",
       "0      Klasik     Hasan           132              51                   51   \n",
       "1  Margherita       Ege           331              31                   31   \n",
       "2           3   Feridun  414141414141    414141414141                 4114   \n",
       "3  Turk_Pizza  Saltanat          1414            1414                 1414   \n",
       "\n",
       "                                    Sipariş Açıklama  \\\n",
       "0  Karışık pizza malzemeleri : mantar, kaşar peyn...   \n",
       "1  Margherita pizza malzemeleri : domates, mozare...   \n",
       "2  Türk pizza malzemeleri : kıyma, soğan, biber, ...   \n",
       "3  Türk pizza malzemeleri : kıyma, soğan, biber, ...   \n",
       "\n",
       "             Sipariş Tarihi  Sipariş Tutarı  \n",
       "0  Fri Mar  3 00:43:21 2023              70  \n",
       "1  Fri Mar  3 00:48:36 2023              77  \n",
       "2  Fri Mar  3 00:52:28 2023              68  \n",
       "3  Fri Mar  3 00:54:50 2023              68  "
      ]
     },
     "execution_count": 55,
     "metadata": {},
     "output_type": "execute_result"
    }
   ],
   "source": [
    "import pandas as pd\n",
    "\n",
    "# First let's laod the the dataset\n",
    "df = pd.read_csv(\"Orders_Database.csv\")\n",
    "df.columns=[\"Pizza Türü\",\"İsim\",\"TC No\",\"Kredi Kartı No\",\"Kredi Kart No Şifre\",\"Sipariş Açıklama\",\"Sipariş Tarihi\",\"Sipariş Tutarı\"]\n",
    "df"
   ]
  }
 ],
 "metadata": {
  "kernelspec": {
   "display_name": "Python 3",
   "language": "python",
   "name": "python3"
  },
  "language_info": {
   "codemirror_mode": {
    "name": "ipython",
    "version": 3
   },
   "file_extension": ".py",
   "mimetype": "text/x-python",
   "name": "python",
   "nbconvert_exporter": "python",
   "pygments_lexer": "ipython3",
   "version": "3.10.6"
  },
  "orig_nbformat": 4,
  "vscode": {
   "interpreter": {
    "hash": "916dbcbb3f70747c44a77c7bcd40155683ae19c65e1c03b4aa3499c5328201f1"
   }
  }
 },
 "nbformat": 4,
 "nbformat_minor": 2
}
