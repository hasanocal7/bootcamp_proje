{
 "cells": [
  {
   "cell_type": "code",
   "execution_count": 148,
   "metadata": {},
   "outputs": [],
   "source": [
    "#2\n",
    "import csv\n",
    "\n",
    "import datetime"
   ]
  },
  {
   "cell_type": "code",
   "execution_count": 52,
   "metadata": {},
   "outputs": [],
   "source": [
    "#3\n",
    "class pizza:\n",
    "    def __init__(self,maliyet,aciklama) -> None:\n",
    "        self.maliyet=maliyet\n",
    "        self.aciklama=aciklama\n",
    "    def get_cost(self):\n",
    "        return self.maliyet\n",
    "    def get_description(self):\n",
    "        return self.aciklama"
   ]
  },
  {
   "cell_type": "code",
   "execution_count": 67,
   "metadata": {},
   "outputs": [],
   "source": [
    "#4\n",
    "class Klasik(pizza):\n",
    "    def __init__(self):\n",
    "        self.maliyet=50\n",
    "        self.aciklama=\"Karışık pizza malzemeleri : mantar, kaşar peyniri, domates, sucuk, salam, sosis\"\n",
    "\n",
    "\n",
    "class Margherita(pizza):\n",
    "    def __init__(self):\n",
    "        self.maliyet=65\n",
    "        self.aciklama=\"Margherita pizza malzemeleri : domates, mozarella, fesleğen\"\n",
    "\n",
    "\n",
    "class Turk_Pizza(pizza):\n",
    "    def __init__(self):\n",
    "        self.maliyet=60\n",
    "        self.aciklama=\"Türk pizza malzemeleri : kıyma, soğan, biber, domates\"\n",
    "\n",
    "\n",
    "class Pepperoni_Pizza(pizza):\n",
    "    def __init__(self):\n",
    "        self.maliyet=75\n",
    "        self.aciklama=\"Pepperoni pizza malzemeleri : pepperoni, pepperoni sos, mozerella peyniri, mısır, yeşil zeytin, siyah zeytin \"\n"
   ]
  },
  {
   "cell_type": "code",
   "execution_count": 129,
   "metadata": {},
   "outputs": [],
   "source": [
    "siparis=Klasik()"
   ]
  },
  {
   "cell_type": "code",
   "execution_count": 130,
   "metadata": {},
   "outputs": [
    {
     "data": {
      "text/plain": [
       "50"
      ]
     },
     "execution_count": 130,
     "metadata": {},
     "output_type": "execute_result"
    }
   ],
   "source": [
    "siparis.get_cost()"
   ]
  },
  {
   "cell_type": "code",
   "execution_count": 131,
   "metadata": {},
   "outputs": [
    {
     "data": {
      "text/plain": [
       "'Karışık pizza malzemeleri : mantar, kaşar peyniri, domates, sucuk, salam, sosis'"
      ]
     },
     "execution_count": 131,
     "metadata": {},
     "output_type": "execute_result"
    }
   ],
   "source": [
    "siparis.get_description()"
   ]
  },
  {
   "cell_type": "code",
   "execution_count": 118,
   "metadata": {},
   "outputs": [],
   "source": [
    "class Decorator(pizza):\n",
    "    def __init__(self, maliyet, aciklama):\n",
    "        pizza.__init__(maliyet, aciklama)\n",
    "    \n",
    "    def get_cost(self):\n",
    "        return pizza.get_cost(self)\n",
    "\n",
    "    def get_description(self):\n",
    "        return pizza.get_description(self)       "
   ]
  },
  {
   "cell_type": "code",
   "execution_count": 119,
   "metadata": {},
   "outputs": [],
   "source": [
    "\"\"\"Sos olarak Zeytin, Mantar, Keçi Peyniri, Et, Soğan ve Mısır'ı belirleyin ve belirlediğiniz sosların her birini bir sınıf olarak tanımlayın.\n",
    "Unutmayın ki her sosun kendine ait bir fiyatı ve değişken olarak her bir pizzanın açıklaması olması gerekir.\n",
    "\"\"\"\n",
    "class Zeytin(Decorator):\n",
    "    def __init__(self):\n",
    "        self.maliyet=5\n",
    "        self.aciklama=\"\"\n",
    "\n",
    "\n",
    "class Mantar(Decorator):\n",
    "    def __init__(self):\n",
    "        self.maliyet=8\n",
    "        self.aciklama=\"\"\n",
    "\n",
    "\n",
    "class Keci_Peyniri(Decorator):\n",
    "    def __init__(self):\n",
    "        self.maliyet=12\n",
    "        self.aciklama=\"\"\n",
    "\n",
    "\n",
    "class Et(Decorator):\n",
    "    def __init__(self):\n",
    "        self.maliyet=20\n",
    "        self.aciklama=\"\"\n",
    "\n",
    "class Sogan(pizza):\n",
    "    def __init__(self):\n",
    "        self.maliyet=6\n",
    "        self.aciklama=\"\"\n",
    "\n",
    "\n",
    "class Misir(pizza):\n",
    "    def __init__(self):\n",
    "        self.maliyet=3\n",
    "        self.aciklama=\"\""
   ]
  },
  {
   "cell_type": "code",
   "execution_count": 120,
   "metadata": {},
   "outputs": [],
   "source": [
    "sos=Zeytin()"
   ]
  },
  {
   "cell_type": "code",
   "execution_count": 121,
   "metadata": {},
   "outputs": [
    {
     "data": {
      "text/plain": [
       "5"
      ]
     },
     "execution_count": 121,
     "metadata": {},
     "output_type": "execute_result"
    }
   ],
   "source": [
    "sos.get_cost()"
   ]
  },
  {
   "cell_type": "code",
   "execution_count": 122,
   "metadata": {},
   "outputs": [
    {
     "data": {
      "text/plain": [
       "''"
      ]
     },
     "execution_count": 122,
     "metadata": {},
     "output_type": "execute_result"
    }
   ],
   "source": [
    "sos.get_description()"
   ]
  },
  {
   "cell_type": "code",
   "execution_count": 180,
   "metadata": {},
   "outputs": [
    {
     "name": "stdout",
     "output_type": "stream",
     "text": [
      "* Lütfen Bir Pizza Tabanı Seçiniz:\n",
      "1: Klasik\n",
      "2: Margherita\n",
      "3: Türk Pizza\n",
      "4: Pepperoni Pizza\n",
      "* ve seçeceğiniz sos:\n",
      "11: Zeytin\n",
      "12: Mantarlar\n",
      "13: Keçi Peyniri\n",
      "14: Et\n",
      "15: Soğan\n",
      "16: Mısır\n",
      "* Teşekkür ederiz!\n",
      "\n",
      "Sos Yok\n"
     ]
    },
    {
     "ename": "UnboundLocalError",
     "evalue": "local variable 'sosum' referenced before assignment",
     "output_type": "error",
     "traceback": [
      "\u001b[0;31m---------------------------------------------------------------------------\u001b[0m",
      "\u001b[0;31mUnboundLocalError\u001b[0m                         Traceback (most recent call last)",
      "Cell \u001b[0;32mIn[180], line 52\u001b[0m\n\u001b[1;32m     49\u001b[0m         yeni_yazici \u001b[39m=\u001b[39m csv\u001b[39m.\u001b[39mwriter(yeni_dosya, delimiter\u001b[39m=\u001b[39m\u001b[39m'\u001b[39m\u001b[39m,\u001b[39m\u001b[39m'\u001b[39m, quotechar\u001b[39m=\u001b[39m\u001b[39m'\u001b[39m\u001b[39m\"\u001b[39m\u001b[39m'\u001b[39m, quoting\u001b[39m=\u001b[39mcsv\u001b[39m.\u001b[39mQUOTE_MINIMAL)\n\u001b[1;32m     50\u001b[0m         yeni_yazici\u001b[39m.\u001b[39mwriterow([pizzasec,isim,tc,kartno,kartsifre,pizzam\u001b[39m.\u001b[39mget_description()\u001b[39m+\u001b[39msosum\u001b[39m.\u001b[39mget_description(),tarih,hesap])\n\u001b[0;32m---> 52\u001b[0m Main()\n",
      "Cell \u001b[0;32mIn[180], line 35\u001b[0m, in \u001b[0;36mMain\u001b[0;34m()\u001b[0m\n\u001b[1;32m     32\u001b[0m \u001b[39melse\u001b[39;00m:\n\u001b[1;32m     33\u001b[0m     \u001b[39mprint\u001b[39m(\u001b[39m\"\u001b[39m\u001b[39mSos Yok\u001b[39m\u001b[39m\"\u001b[39m)\n\u001b[0;32m---> 35\u001b[0m hesap\u001b[39m=\u001b[39mpizzam\u001b[39m.\u001b[39mget_cost()\u001b[39m+\u001b[39msosum\u001b[39m.\u001b[39mget_cost()\n\u001b[1;32m     37\u001b[0m isim\u001b[39m=\u001b[39m\u001b[39minput\u001b[39m(\u001b[39m\"\u001b[39m\u001b[39mAdınızı giriniz: \u001b[39m\u001b[39m\"\u001b[39m)\n\u001b[1;32m     39\u001b[0m tc\u001b[39m=\u001b[39m\u001b[39minput\u001b[39m(\u001b[39m\"\u001b[39m\u001b[39mTC giriniz: \u001b[39m\u001b[39m\"\u001b[39m)\n",
      "\u001b[0;31mUnboundLocalError\u001b[0m: local variable 'sosum' referenced before assignment"
     ]
    }
   ],
   "source": [
    "def Main():\n",
    "    menu = open(\"Menu.txt\")\n",
    "    print(menu.read())\n",
    "\n",
    "    \n",
    "    pizzasec=input(\"Pizzanızı seçiniz: \")\n",
    "    if pizzasec==\"Klasik\":\n",
    "        pizzam=Klasik()\n",
    "    elif pizzasec==\"Margherita\":\n",
    "        pizzam=Margherita()\n",
    "    elif pizzasec==\"Türk Pizza\":\n",
    "        pizzam=Turk_Pizza()\n",
    "    elif pizzasec==\"Pepperoni Pizza\":\n",
    "        pizzam=Pepperoni_Pizza()\n",
    "    else:\n",
    "        print(\"Pizza siparişiniz tamamlanamadı!\") \n",
    "\n",
    "           \n",
    "    sossec=input(\"Sos seçiniz:\")\n",
    "    if sossec==\"Zeytin\":\n",
    "        sosum=Zeytin()\n",
    "    elif sossec==\"Mantar\":\n",
    "        sosum=Mantar()\n",
    "    elif sossec==\"Keçi Peyniri\":\n",
    "        sosum=Keci_Peyniri()\n",
    "    elif sossec==\"Et\":\n",
    "        sosum=Et()\n",
    "    elif sossec==\"Soğan\":\n",
    "        sosum=Sogan()\n",
    "    elif sossec==\"Mısır\":\n",
    "        sosum=Misir()        \n",
    "    else:\n",
    "        print(\"Sos Yok\")\n",
    "\n",
    "    hesap=pizzam.get_cost()+sosum.get_cost()\n",
    "\n",
    "    isim=input(\"Adınızı giriniz: \")\n",
    "\n",
    "    tc=input(\"TC giriniz: \")\n",
    "\n",
    "    kartno=input(\"Kart Numaranızı giriniz: \")\n",
    "\n",
    "    kartsifre=input(\"Kart Şifrenizi: \")\n",
    "\n",
    "    an = datetime.datetime.now()\n",
    "    tarih = datetime.datetime.strftime(an, '%c')\n",
    "    \n",
    "    with open('Orders_Database.csv', mode='w') as yeni_dosya:\n",
    "        yeni_yazici = csv.writer(yeni_dosya, delimiter=',', quotechar='\"', quoting=csv.QUOTE_MINIMAL)\n",
    "        yeni_yazici.writerow([pizzasec,isim,tc,kartno,kartsifre,pizzam.get_description()+sosum.get_description(),tarih,hesap])\n",
    "\n",
    "Main()"
   ]
  },
  {
   "cell_type": "code",
   "execution_count": 179,
   "metadata": {},
   "outputs": [
    {
     "data": {
      "text/html": [
       "<div>\n",
       "<style scoped>\n",
       "    .dataframe tbody tr th:only-of-type {\n",
       "        vertical-align: middle;\n",
       "    }\n",
       "\n",
       "    .dataframe tbody tr th {\n",
       "        vertical-align: top;\n",
       "    }\n",
       "\n",
       "    .dataframe thead th {\n",
       "        text-align: right;\n",
       "    }\n",
       "</style>\n",
       "<table border=\"1\" class=\"dataframe\">\n",
       "  <thead>\n",
       "    <tr style=\"text-align: right;\">\n",
       "      <th></th>\n",
       "      <th>Klasik</th>\n",
       "      <th>Umut</th>\n",
       "      <th>32</th>\n",
       "      <th>5</th>\n",
       "      <th>51</th>\n",
       "      <th>Karışık pizza malzemeleri : mantar, kaşar peyniri, domates, sucuk, salam, sosis</th>\n",
       "      <th>Wed Mar  1 18:50:22 2023</th>\n",
       "      <th>62</th>\n",
       "    </tr>\n",
       "  </thead>\n",
       "  <tbody>\n",
       "  </tbody>\n",
       "</table>\n",
       "</div>"
      ],
      "text/plain": [
       "Empty DataFrame\n",
       "Columns: [Klasik, Umut, 32, 5, 51, Karışık pizza malzemeleri : mantar, kaşar peyniri, domates, sucuk, salam, sosis, Wed Mar  1 18:50:22 2023, 62]\n",
       "Index: []"
      ]
     },
     "execution_count": 179,
     "metadata": {},
     "output_type": "execute_result"
    }
   ],
   "source": [
    "import pandas as pd\n",
    "\n",
    "# First let's laod the the dataset\n",
    "df = pd.read_csv(\"Orders_Database.csv\")\n",
    "df"
   ]
  }
 ],
 "metadata": {
  "kernelspec": {
   "display_name": "Python 3",
   "language": "python",
   "name": "python3"
  },
  "language_info": {
   "codemirror_mode": {
    "name": "ipython",
    "version": 3
   },
   "file_extension": ".py",
   "mimetype": "text/x-python",
   "name": "python",
   "nbconvert_exporter": "python",
   "pygments_lexer": "ipython3",
   "version": "3.10.6"
  },
  "orig_nbformat": 4,
  "vscode": {
   "interpreter": {
    "hash": "916dbcbb3f70747c44a77c7bcd40155683ae19c65e1c03b4aa3499c5328201f1"
   }
  }
 },
 "nbformat": 4,
 "nbformat_minor": 2
}
